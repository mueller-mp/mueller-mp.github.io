{
 "cells": [
  {
   "cell_type": "markdown",
   "metadata": {},
   "source": [
    "# Publications markdown generator for academicpages\n",
    "\n",
    "Takes a TSV of publications with metadata and converts them for use with [academicpages.github.io](academicpages.github.io). This is an interactive Jupyter notebook ([see more info here](http://jupyter-notebook-beginner-guide.readthedocs.io/en/latest/what_is_jupyter.html)). The core python code is also in `publications.py`. Run either from the `markdown_generator` folder after replacing `publications.tsv` with one containing your data.\n",
    "\n",
    "TODO: Make this work with BibTex and other databases of citations, rather than Stuart's non-standard TSV format and citation style.\n"
   ]
  },
  {
   "cell_type": "markdown",
   "metadata": {},
   "source": [
    "## Data format\n",
    "\n",
    "The TSV needs to have the following columns: pub_date, title, venue, excerpt, citation, site_url, and paper_url, with a header at the top. \n",
    "\n",
    "- `excerpt` and `paper_url` can be blank, but the others must have values. \n",
    "- `pub_date` must be formatted as YYYY-MM-DD.\n",
    "- `url_slug` will be the descriptive part of the .md file and the permalink URL for the page about the paper. The .md file will be `YYYY-MM-DD-[url_slug].md` and the permalink will be `https://[yourdomain]/publications/YYYY-MM-DD-[url_slug]`\n",
    "\n",
    "This is how the raw file looks (it doesn't look pretty, use a spreadsheet or other program to edit and create)."
   ]
  },
  {
   "cell_type": "code",
   "execution_count": 14,
   "metadata": {},
   "outputs": [
    {
     "name": "stdout",
     "output_type": "stream",
     "text": [
      "pub_date\ttitle\tvenue\texcerpt\tcitation\turl_slug\tpaper_url\n",
      "2023-06-01\tIn or Out? Fixing ImageNet Out-of-distribution detection\tICML\tWe show that previously used datasets for evaluating OOD detection on ImageNet are severly flawed, because they contain a significant fraction of ID samples. We present NINCO, a novel hand-cleaned dataset as a solution.\tJ. Bitterwolf*, M. Müller* and Matthias Hein (*equal contribution) (2023) “In or out? Fixing ImageNet Out-of-distribution detection” <i> ICML 2023</i>\tNINCO\thttps://arxiv.org/abs/2306.00826\n",
      "2023-02-14\tA modern look at the relationship between sharpness and generaliization\tICML\tIn a large-scale study we observe that sharpness does not correlate well with generalization but rather with some training parameters.\tAndriushchenko M., Croce F., Müller M., Hein M.,  and Flammarion N. (2023)  “A modern look at the relationship between sharpness and generaliization” <i> ICML 2023</i>\tsharpness\thttps://arxiv.org/abs/2302.07011\n",
      "2023-06-07\tNormalization Layers Are All That Sharpness-Aware Minimization Needs\tNeurIPS\tWe show that perturbing only the affine normalization parameters (roughly 0.1% of all parameters) in the adversarial step of SAM typically outperforms perturbing all of the parameters. This finding generalizes to different SAM variants and both BatchNorm and LayerNorm. Alternative sparse perturbation approaches do not achieve similar performance, especially not at such extreme sparsity levels.\tMaximilian Müller, Tiffany Vlaar, David Rolnick, and Matthias Hein (2023) “Normalization Layers Are All That Sharpness-Aware Minimization Needs”,   <i> NeurIPS 2023</i>\tSAMON\thttps://arxiv.org/abs/2306.04226\n",
      "2022-05-02\tLeveraging Stochastic Predictions of Bayesian Neural Networks for Fluid Simulations\tNeurIPS\tWe investigate uncertainty estimation and multimodality via the non-deterministic predictions of Bayesian neural networks (BNNs) in fluid simulations. To this end, we deploy BNNs in three challenging experimental test-cases of increasing complexity.\t\"Maximilian Mueller, Robin Greif, Frank Jenko, Nils Thuerey (2022) \"\"Leveraging Stochastic Predictions of Bayesian Neural Networks for Fluid Simulations”  <i> NeurIPS 2022 workshop: Machine Learning and the Physical Sciences</i>\"\tBNN-Fluid\thttps://arxiv.org/abs/2205.01222\n",
      "2021-09-11\tPhysics-based Deep Learning\tworld wide web\tThis document contains a practical and comprehensive introduction of everything related to deep learning in the context of physical simulations.\tNils Thuerey, Philipp Holl, Maximilian Mueller, Patrick Schnell, Felix Trost, Kiwon Um (2021) “Physics-based Deep Learning”   <i> online Book</i>\tPBDL\thttps://physicsbaseddeeplearning. org\n",
      "2018-12-10\tFast evaluation of the current driven by electron cyclotron waves for reactor studies\tPhysics of Plasmas\tIn this paper, a procedure for the evaluation of the optimum current driven by EC waves for given global parameters is proposed, which relies on a single numerical calculation of the current drive efficiency, based on the adjoint method (including momentum-conserving corrections). \tE Poli, M Müller, H Zohm, M Kovari (2018) “Fast evaluation of the current driven by electron cyclotron waves for reactor studies”   <i> Physics of Plasmas, vol. 25</i>\tEccd-plasma\thttps://pure.mpg.de/rest/items/item_3018972/component/file_3023894/content\n"
     ]
    }
   ],
   "source": [
    "!cat publications.tsv"
   ]
  },
  {
   "cell_type": "markdown",
   "metadata": {},
   "source": [
    "## Import pandas\n",
    "\n",
    "We are using the very handy pandas library for dataframes."
   ]
  },
  {
   "cell_type": "code",
   "execution_count": 15,
   "metadata": {},
   "outputs": [],
   "source": [
    "import pandas as pd"
   ]
  },
  {
   "cell_type": "markdown",
   "metadata": {},
   "source": [
    "## Import TSV\n",
    "\n",
    "Pandas makes this easy with the read_csv function. We are using a TSV, so we specify the separator as a tab, or `\\t`.\n",
    "\n",
    "I found it important to put this data in a tab-separated values format, because there are a lot of commas in this kind of data and comma-separated values can get messed up. However, you can modify the import statement, as pandas also has read_excel(), read_json(), and others."
   ]
  },
  {
   "cell_type": "code",
   "execution_count": 16,
   "metadata": {},
   "outputs": [
    {
     "data": {
      "text/html": [
       "<div>\n",
       "<style scoped>\n",
       "    .dataframe tbody tr th:only-of-type {\n",
       "        vertical-align: middle;\n",
       "    }\n",
       "\n",
       "    .dataframe tbody tr th {\n",
       "        vertical-align: top;\n",
       "    }\n",
       "\n",
       "    .dataframe thead th {\n",
       "        text-align: right;\n",
       "    }\n",
       "</style>\n",
       "<table border=\"1\" class=\"dataframe\">\n",
       "  <thead>\n",
       "    <tr style=\"text-align: right;\">\n",
       "      <th></th>\n",
       "      <th>pub_date</th>\n",
       "      <th>title</th>\n",
       "      <th>venue</th>\n",
       "      <th>excerpt</th>\n",
       "      <th>citation</th>\n",
       "      <th>url_slug</th>\n",
       "      <th>paper_url</th>\n",
       "    </tr>\n",
       "  </thead>\n",
       "  <tbody>\n",
       "    <tr>\n",
       "      <th>0</th>\n",
       "      <td>2023-06-01</td>\n",
       "      <td>In or Out? Fixing ImageNet Out-of-distribution...</td>\n",
       "      <td>ICML</td>\n",
       "      <td>We show that previously used datasets for eval...</td>\n",
       "      <td>J. Bitterwolf*, M. Müller* and Matthias Hein (...</td>\n",
       "      <td>NINCO</td>\n",
       "      <td>https://arxiv.org/abs/2306.00826</td>\n",
       "    </tr>\n",
       "    <tr>\n",
       "      <th>1</th>\n",
       "      <td>2023-02-14</td>\n",
       "      <td>A modern look at the relationship between shar...</td>\n",
       "      <td>ICML</td>\n",
       "      <td>In a large-scale study we observe that sharpne...</td>\n",
       "      <td>Andriushchenko M., Croce F., Müller M., Hein M...</td>\n",
       "      <td>sharpness</td>\n",
       "      <td>https://arxiv.org/abs/2302.07011</td>\n",
       "    </tr>\n",
       "    <tr>\n",
       "      <th>2</th>\n",
       "      <td>2023-06-07</td>\n",
       "      <td>Normalization Layers Are All That Sharpness-Aw...</td>\n",
       "      <td>NeurIPS</td>\n",
       "      <td>We show that perturbing only the affine normal...</td>\n",
       "      <td>Maximilian Müller, Tiffany Vlaar, David Rolnic...</td>\n",
       "      <td>SAMON</td>\n",
       "      <td>https://arxiv.org/abs/2306.04226</td>\n",
       "    </tr>\n",
       "    <tr>\n",
       "      <th>3</th>\n",
       "      <td>2022-05-02</td>\n",
       "      <td>Leveraging Stochastic Predictions of Bayesian ...</td>\n",
       "      <td>NeurIPS</td>\n",
       "      <td>We investigate uncertainty estimation and mult...</td>\n",
       "      <td>Maximilian Mueller, Robin Greif, Frank Jenko, ...</td>\n",
       "      <td>BNN-Fluid</td>\n",
       "      <td>https://arxiv.org/abs/2205.01222</td>\n",
       "    </tr>\n",
       "    <tr>\n",
       "      <th>4</th>\n",
       "      <td>2021-09-11</td>\n",
       "      <td>Physics-based Deep Learning</td>\n",
       "      <td>world wide web</td>\n",
       "      <td>This document contains a practical and compreh...</td>\n",
       "      <td>Nils Thuerey, Philipp Holl, Maximilian Mueller...</td>\n",
       "      <td>PBDL</td>\n",
       "      <td>https://physicsbaseddeeplearning. org</td>\n",
       "    </tr>\n",
       "    <tr>\n",
       "      <th>5</th>\n",
       "      <td>2018-12-10</td>\n",
       "      <td>Fast evaluation of the current driven by elect...</td>\n",
       "      <td>Physics of Plasmas</td>\n",
       "      <td>In this paper, a procedure for the evaluation ...</td>\n",
       "      <td>E Poli, M Müller, H Zohm, M Kovari (2018) “Fas...</td>\n",
       "      <td>Eccd-plasma</td>\n",
       "      <td>https://pure.mpg.de/rest/items/item_3018972/co...</td>\n",
       "    </tr>\n",
       "  </tbody>\n",
       "</table>\n",
       "</div>"
      ],
      "text/plain": [
       "     pub_date                                              title  \\\n",
       "0  2023-06-01  In or Out? Fixing ImageNet Out-of-distribution...   \n",
       "1  2023-02-14  A modern look at the relationship between shar...   \n",
       "2  2023-06-07  Normalization Layers Are All That Sharpness-Aw...   \n",
       "3  2022-05-02  Leveraging Stochastic Predictions of Bayesian ...   \n",
       "4  2021-09-11                        Physics-based Deep Learning   \n",
       "5  2018-12-10  Fast evaluation of the current driven by elect...   \n",
       "\n",
       "                venue                                            excerpt  \\\n",
       "0                ICML  We show that previously used datasets for eval...   \n",
       "1                ICML  In a large-scale study we observe that sharpne...   \n",
       "2             NeurIPS  We show that perturbing only the affine normal...   \n",
       "3             NeurIPS  We investigate uncertainty estimation and mult...   \n",
       "4      world wide web  This document contains a practical and compreh...   \n",
       "5  Physics of Plasmas  In this paper, a procedure for the evaluation ...   \n",
       "\n",
       "                                            citation     url_slug  \\\n",
       "0  J. Bitterwolf*, M. Müller* and Matthias Hein (...        NINCO   \n",
       "1  Andriushchenko M., Croce F., Müller M., Hein M...    sharpness   \n",
       "2  Maximilian Müller, Tiffany Vlaar, David Rolnic...        SAMON   \n",
       "3  Maximilian Mueller, Robin Greif, Frank Jenko, ...    BNN-Fluid   \n",
       "4  Nils Thuerey, Philipp Holl, Maximilian Mueller...         PBDL   \n",
       "5  E Poli, M Müller, H Zohm, M Kovari (2018) “Fas...  Eccd-plasma   \n",
       "\n",
       "                                           paper_url  \n",
       "0                   https://arxiv.org/abs/2306.00826  \n",
       "1                   https://arxiv.org/abs/2302.07011  \n",
       "2                   https://arxiv.org/abs/2306.04226  \n",
       "3                   https://arxiv.org/abs/2205.01222  \n",
       "4              https://physicsbaseddeeplearning. org  \n",
       "5  https://pure.mpg.de/rest/items/item_3018972/co...  "
      ]
     },
     "execution_count": 16,
     "metadata": {},
     "output_type": "execute_result"
    }
   ],
   "source": [
    "publications = pd.read_csv(\"publications.tsv\", sep=\"\\t\", header=0)\n",
    "publications\n"
   ]
  },
  {
   "cell_type": "markdown",
   "metadata": {},
   "source": [
    "## Escape special characters\n",
    "\n",
    "YAML is very picky about how it takes a valid string, so we are replacing single and double quotes (and ampersands) with their HTML encoded equivilents. This makes them look not so readable in raw format, but they are parsed and rendered nicely."
   ]
  },
  {
   "cell_type": "code",
   "execution_count": 17,
   "metadata": {},
   "outputs": [],
   "source": [
    "html_escape_table = {\n",
    "    \"&\": \"&amp;\",\n",
    "    '\"': \"&quot;\",\n",
    "    \"'\": \"&apos;\"\n",
    "    }\n",
    "\n",
    "def html_escape(text):\n",
    "    \"\"\"Produce entities within text.\"\"\"\n",
    "    return \"\".join(html_escape_table.get(c,c) for c in text)"
   ]
  },
  {
   "cell_type": "markdown",
   "metadata": {},
   "source": [
    "## Creating the markdown files\n",
    "\n",
    "This is where the heavy lifting is done. This loops through all the rows in the TSV dataframe, then starts to concatentate a big string (```md```) that contains the markdown for each type. It does the YAML metadata first, then does the description for the individual page."
   ]
  },
  {
   "cell_type": "code",
   "execution_count": 18,
   "metadata": {},
   "outputs": [],
   "source": [
    "import os\n",
    "for row, item in publications.iterrows():\n",
    "    \n",
    "    md_filename = str(item.pub_date) + \"-\" + item.url_slug + \".md\"\n",
    "    html_filename = str(item.pub_date) + \"-\" + item.url_slug\n",
    "    year = item.pub_date[:4]\n",
    "    \n",
    "    ## YAML variables\n",
    "    \n",
    "    md = \"---\\ntitle: \\\"\"   + item.title + '\"\\n'\n",
    "    \n",
    "    md += \"\"\"collection: publications\"\"\"\n",
    "    \n",
    "    md += \"\"\"\\npermalink: /publication/\"\"\" + html_filename\n",
    "    \n",
    "    if len(str(item.excerpt)) > 5:\n",
    "        md += \"\\nexcerpt: '\" + html_escape(item.excerpt) + \"'\"\n",
    "    \n",
    "    md += \"\\ndate: \" + str(item.pub_date) \n",
    "    \n",
    "    md += \"\\nvenue: '\" + html_escape(item.venue) + \"'\"\n",
    "    \n",
    "    if len(str(item.paper_url)) > 5:\n",
    "        md += \"\\npaperurl: '\" + item.paper_url + \"'\"\n",
    "    \n",
    "    md += \"\\ncitation: '\" + html_escape(item.citation) + \"'\"\n",
    "    \n",
    "    md += \"\\n---\"\n",
    "    \n",
    "    ## Markdown description for individual page\n",
    "        \n",
    "    if len(str(item.excerpt)) > 5:\n",
    "        md += \"\\n\" + html_escape(item.excerpt) + \"\\n\"\n",
    "    \n",
    "    if len(str(item.paper_url)) > 5:\n",
    "        md += \"\\n[Download paper here](\" + item.paper_url + \")\\n\" \n",
    "        \n",
    "    md += \"\\nRecommended citation: \" + item.citation\n",
    "    \n",
    "    md_filename = os.path.basename(md_filename)\n",
    "       \n",
    "    with open(\"../_publications/\" + md_filename, 'w') as f:\n",
    "        f.write(md)"
   ]
  },
  {
   "cell_type": "markdown",
   "metadata": {},
   "source": [
    "These files are in the publications directory, one directory below where we're working from."
   ]
  },
  {
   "cell_type": "code",
   "execution_count": 19,
   "metadata": {},
   "outputs": [
    {
     "name": "stdout",
     "output_type": "stream",
     "text": [
      "2018-12-10-Eccd-plasma.md  2022-05-02-BNN-Fluid.md  2023-06-01-NINCO.md\n",
      "2021-09-11-PBDL.md\t   2023-02-14-sharpness.md  2023-06-07-SAMON.md\n"
     ]
    }
   ],
   "source": [
    "!ls ../_publications/"
   ]
  },
  {
   "cell_type": "code",
   "execution_count": 20,
   "metadata": {},
   "outputs": [
    {
     "name": "stdout",
     "output_type": "stream",
     "text": [
      "cat: ../_publications/2009-10-01-paper-title-number-1.md: No such file or directory\n"
     ]
    }
   ],
   "source": [
    "!cat ../_publications/2009-10-01-paper-title-number-1.md"
   ]
  },
  {
   "cell_type": "code",
   "execution_count": null,
   "metadata": {},
   "outputs": [],
   "source": []
  }
 ],
 "metadata": {
  "kernelspec": {
   "display_name": "Python 3 (ipykernel)",
   "language": "python",
   "name": "python3"
  },
  "language_info": {
   "codemirror_mode": {
    "name": "ipython",
    "version": 3
   },
   "file_extension": ".py",
   "mimetype": "text/x-python",
   "name": "python",
   "nbconvert_exporter": "python",
   "pygments_lexer": "ipython3",
   "version": "3.11.3"
  }
 },
 "nbformat": 4,
 "nbformat_minor": 4
}
